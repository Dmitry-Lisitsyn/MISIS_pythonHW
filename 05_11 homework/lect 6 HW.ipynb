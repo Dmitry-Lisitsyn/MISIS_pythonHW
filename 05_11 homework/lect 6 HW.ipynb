{
 "cells": [
  {
   "cell_type": "code",
   "execution_count": null,
   "id": "b168350a",
   "metadata": {},
   "outputs": [],
   "source": [
    "class Student:\n",
    "    \n",
    "    def __init__(self, name='Ivan', groupNumber='10A', age=18):\n",
    "        self.name = name\n",
    "        self.groupNumber = groupNumber\n",
    "        self.age = age\n",
    "\n",
    "    def getName(self):\n",
    "        return self.name\n",
    "    \n",
    "    def getAge(self):\n",
    "        return self.age\n",
    "    \n",
    "    def getGroupNumber(self):\n",
    "        return self.groupNumber\n",
    "    \n",
    "    def setNameAge(self, name, age):\n",
    "        self.name = name\n",
    "        self.age = age\n",
    "        \n",
    "    def setGroupNumber(self, groupNumber):\n",
    "        self.groupNumber = groupNumber\n",
    "\n",
    "stud1 = Student()\n",
    "print(stud1.getName(), stud1.getAge(), stud1.getGroupNumber()) \n",
    "stud2 = Student(name = \"Dmitry\", groupNumber=\"22B\", age = 24)\n",
    "print(stud2.getName(), stud2.getAge(), stud2.getGroupNumber()) \n",
    "stud3 = Student(name = \"Alex\", groupNumber=\"23B\", age = 22)\n",
    "print(stud3.getName(), stud3.getAge(), stud3.getGroupNumber()) \n",
    "stud4 = Student(name = \"Misha\", groupNumber=\"24B\", age = 23)\n",
    "stud4.setNameAge(\"Ilya\", 100)\n",
    "print(stud4.getName(), stud4.getAge(), stud4.getGroupNumber()) \n",
    "stud5 = Student(name = \"Oleg\", groupNumber=\"25B\", age = 34)\n",
    "print(stud5.getName(), stud5.getAge(), stud5.getGroupNumber()) "
   ]
  },
  {
   "cell_type": "markdown",
   "id": "8be4ccac",
   "metadata": {},
   "source": [
    "Напишите программу с классом Car. Создайте конструктор класса Car. Создайте атрибуты класса Car — color (цвет), type (тип), year (год). Напишите пять методов. Первый — запуск автомобиля, при его вызове выводится сообщение «Автомобиль заведен». Второй — отключение автомобиля — выводит сообщение «Автомобиль заглушен». Третий — присвоение автомобилю года выпуска. Четвертый метод — присвоение автомобилю типа. Пятый — присвоение автомобилю цвета."
   ]
  },
  {
   "cell_type": "code",
   "execution_count": 23,
   "id": "1fb5713b",
   "metadata": {},
   "outputs": [
    {
     "name": "stdout",
     "output_type": "stream",
     "text": [
      "Автомобиль заведен\n",
      "red, sedan, 2007\n"
     ]
    }
   ],
   "source": [
    "class Car:\n",
    "    def __init__(self, color, typeCar, year):\n",
    "        self.color = color\n",
    "        self.typeCar = typeCar\n",
    "        self.year = year\n",
    "\n",
    "    def startCar(self):\n",
    "        print(\"Автомобиль заведен\")\n",
    "        \n",
    "    def stopCar(self):\n",
    "        print(\"Автомобиль заглушен\")\n",
    "    \n",
    "    def setYear(self, year):\n",
    "        self.year = year\n",
    "        \n",
    "    def setType(self, typeCar):\n",
    "        self.typeCar = typeCar\n",
    "        \n",
    "    def setColor(self, color):\n",
    "        self.color = color\n",
    "        \n",
    "    def __str__(self):\n",
    "        return f'{self.color}, {self.typeCar}, {self.year}'\n",
    "    \n",
    "car = Car('red', 'sedan', '2007')\n",
    "car.startCar()\n",
    "print(car)"
   ]
  },
  {
   "cell_type": "code",
   "execution_count": 36,
   "id": "e20e8d7d",
   "metadata": {},
   "outputs": [
    {
     "name": "stdout",
     "output_type": "stream",
     "text": [
      "Nutrition p 2, c 4, f 6\n"
     ]
    },
    {
     "data": {
      "text/plain": [
       "313"
      ]
     },
     "execution_count": 36,
     "metadata": {},
     "output_type": "execute_result"
    }
   ],
   "source": [
    "class NutritionInfo:\n",
    "    def __init__(self, proteins, carbs, fats):\n",
    "        self.proteins = proteins\n",
    "        self.carbs = carbs\n",
    "        self.fats = fats\n",
    "    \n",
    "    def __add__(self, other):\n",
    "        return NutritionInfo(self.proteins + other.proteins, self.carbs + other.carbs, self.fats + other.fats)\n",
    "    \n",
    "    def __str__(self):\n",
    "        return f\"Nutrition p {self.proteins}, c {self.carbs}, f {self.fats}\"\n",
    "        \n",
    "    def energy(self):\n",
    "        return int(self.fats * 9 + (self.carbs + self.proteins) * 4.2)\n",
    "    \n",
    "    def __mul__(self, other):\n",
    "        return NutritionInfo(self.proteins * other, self.carbs * other, self.fats * other)\n",
    "    \n",
    "egg = NutritionInfo(1, 2, 3)\n",
    "pastila = NutritionInfo(1, 2, 3)\n",
    "tvorog_9 = NutritionInfo(18, 3, 9)\n",
    "apple = NutritionInfo(0, 25, 0)\n",
    "print(egg + pastila)\n",
    "breakfast = apple + tvorog_9 + pastila\n",
    "breakfast.energy()"
   ]
  },
  {
   "cell_type": "code",
   "execution_count": 37,
   "id": "1abd14b7",
   "metadata": {},
   "outputs": [
    {
     "data": {
      "text/plain": [
       "315"
      ]
     },
     "execution_count": 37,
     "metadata": {},
     "output_type": "execute_result"
    }
   ],
   "source": [
    "breakfast = apple * 3\n",
    "breakfast.energy()"
   ]
  },
  {
   "cell_type": "code",
   "execution_count": null,
   "id": "62839d58",
   "metadata": {},
   "outputs": [],
   "source": []
  }
 ],
 "metadata": {
  "kernelspec": {
   "display_name": "Python 3 (ipykernel)",
   "language": "python",
   "name": "python3"
  },
  "language_info": {
   "codemirror_mode": {
    "name": "ipython",
    "version": 3
   },
   "file_extension": ".py",
   "mimetype": "text/x-python",
   "name": "python",
   "nbconvert_exporter": "python",
   "pygments_lexer": "ipython3",
   "version": "3.10.2"
  }
 },
 "nbformat": 4,
 "nbformat_minor": 5
}
