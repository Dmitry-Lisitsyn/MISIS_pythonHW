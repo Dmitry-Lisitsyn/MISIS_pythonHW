{
 "cells": [
  {
   "cell_type": "code",
   "execution_count": null,
   "id": "ca6aa451",
   "metadata": {},
   "outputs": [],
   "source": [
    "name = input()\n",
    "age = int(input())\n",
    "\n",
    "for i in range(age):\n",
    "  print(\"С днем рождения \" + name)"
   ]
  }
 ],
 "metadata": {
  "kernelspec": {
   "display_name": "Python 3 (ipykernel)",
   "language": "python",
   "name": "python3"
  },
  "language_info": {
   "codemirror_mode": {
    "name": "ipython",
    "version": 3
   },
   "file_extension": ".py",
   "mimetype": "text/x-python",
   "name": "python",
   "nbconvert_exporter": "python",
   "pygments_lexer": "ipython3",
   "version": "3.10.2"
  }
 },
 "nbformat": 4,
 "nbformat_minor": 5
}
