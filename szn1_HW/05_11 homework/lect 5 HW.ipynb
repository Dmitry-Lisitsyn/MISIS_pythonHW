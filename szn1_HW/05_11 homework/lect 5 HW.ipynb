{
 "cells": [
  {
   "cell_type": "code",
   "execution_count": 40,
   "id": "d3a01075",
   "metadata": {},
   "outputs": [
    {
     "name": "stdout",
     "output_type": "stream",
     "text": [
      "Средний балл:  48.27272727272727\n",
      "Список отстающих ребят:\n",
      "Петров И.\n",
      "Дмитриев Н.\n",
      "Смирнова О.\n",
      "Керченских В.\n",
      "Котов Д.\n",
      "Бирюкова Н.\n",
      "Данилов П.\n",
      "Аранских В.\n",
      "Лемонов Ю.\n",
      "Олегова К.\n"
     ]
    }
   ],
   "source": [
    "file_url = 'челики.txt'\n",
    "name_dict = {}\n",
    "summary = 0\n",
    "\n",
    "def string_split(name_str):\n",
    "    split_name = name_str.split(' ')\n",
    "    mark = int(split_name[2])\n",
    "    name = split_name[0] + ' ' + split_name[1] \n",
    "    return name, mark\n",
    "\n",
    "with open(file_url, 'r', encoding=\"utf-8\") as file:\n",
    "    lines = file.read().split('\\n')\n",
    "    for i in lines:\n",
    "        name, mark = string_split(i)\n",
    "        summary += mark\n",
    "        name_dict[name] = mark\n",
    "    average_mark = summary/len(lines)\n",
    "    \n",
    "    print(\"Средний балл: \", average_mark)\n",
    "    print(\"Список отстающих ребят:\")\n",
    "    for name, mark in name_dict.items():\n",
    "        if(mark < average_mark):\n",
    "            print(name) \n",
    "            \n"
   ]
  },
  {
   "cell_type": "code",
   "execution_count": 69,
   "id": "6feb9eb3",
   "metadata": {},
   "outputs": [
    {
     "name": "stdout",
     "output_type": "stream",
     "text": [
      "Лекций: 7\n",
      "Практических: 6\n",
      "Лабораторных: 6\n"
     ]
    }
   ],
   "source": [
    "import re\n",
    "file_url = 'предметы.txt'\n",
    "lec, pract, lab = 0, 0 ,0\n",
    "f = open(file_url, 'r', encoding=\"utf-8\")\n",
    "for string in f:\n",
    "    if len(string.split()) == 2:\n",
    "        type_subject = string.split(' ').pop()\n",
    "        if re.search('пр*', string):\n",
    "                     pract +=1\n",
    "        elif re.search('лек*', string):\n",
    "                     lec +=1\n",
    "        elif re.search('лаб*', string):\n",
    "                     lab +=1\n",
    "print('Лекций:', lec)\n",
    "print('Практических:', pract)\n",
    "print('Лабораторных:', lab)\n",
    "f.close()"
   ]
  },
  {
   "cell_type": "code",
   "execution_count": 71,
   "id": "114735c1",
   "metadata": {},
   "outputs": [
    {
     "name": "stdout",
     "output_type": "stream",
     "text": [
      "['.ipynb_checkpoints', 'lect 5 HW.ipynb', 'предметы.txt', 'челики.txt']\n"
     ]
    }
   ],
   "source": [
    "from os import listdir\n",
    "\n",
    "files = listdir(\".\")\n",
    "print(files)"
   ]
  },
  {
   "cell_type": "code",
   "execution_count": 86,
   "id": "07671c0d",
   "metadata": {},
   "outputs": [
    {
     "name": "stdout",
     "output_type": "stream",
     "text": [
      "Варкалось. Хливкие шорьки Пырялись по наве, И хрюкотали зелюки, Как мюмзики в мове.  О, бойся Бармаглота, сын! Он так свирлеп и дик! А в глу́ше ры́мит исполин — Злопастный Брандашмыг!  Но взял он меч, и взял он щит, Высоких полон дум. В глущобу путь его лежит Под дерево Тумтум.  Он стал под дерево и ждёт. И вдруг граахнул гром — Летит ужасный Бармаглот И пылкает огнём!  Раз-два, раз-два! Горит трава, Взы-взы — стрижает меч, Ува! Ува! И голова Барабардает с плеч!  О светозарный мальчик мой! Ты победил в бою! О храброславленный герой, Хвалу тебе пою!  Варкалось. Хливкие шорьки Пырялись по наве. И хрюкотали зелюки, Как мюмзики в мове.\n",
      "Больше всего раз встречается: и\n",
      "Количество: 8\n",
      "Самое длинное: храброславленный\n"
     ]
    }
   ],
   "source": [
    "text = input()\n",
    "text = re.sub(r'[^\\w\\s]','', text.lower())\n",
    "words = text.split()\n",
    "counter_words = collections.Counter(words)\n",
    "word, occur = counter_words.most_common()[0]\n",
    "longest_word = max(words, key=len)\n",
    "print(\"Больше всего раз встречается:\", word)\n",
    "print(\"Количество:\", occur)\n",
    "print(\"Самое длинное:\", longest_word)"
   ]
  },
  {
   "cell_type": "code",
   "execution_count": null,
   "id": "20b65d9f",
   "metadata": {},
   "outputs": [],
   "source": [
    "Варкалось. Хливкие шорьки Пырялись по наве, И хрюкотали зелюки, Как мюмзики в мове.\n",
    "\n",
    "О, бойся Бармаглота, сын! Он так свирлеп и дик! А в глу́ше ры́мит исполин — Злопастный Брандашмыг!\n",
    "\n",
    "Но взял он меч, и взял он щит, Высоких полон дум. В глущобу путь его лежит Под дерево Тумтум.\n",
    "\n",
    "Он стал под дерево и ждёт. И вдруг граахнул гром — Летит ужасный Бармаглот И пылкает огнём!\n",
    "\n",
    "Раз-два, раз-два! Горит трава, Взы-взы — стрижает меч, Ува! Ува! И голова Барабардает с плеч!\n",
    "\n",
    "О светозарный мальчик мой! Ты победил в бою! О храброславленный герой, Хвалу тебе пою!\n",
    "\n",
    "Варкалось. Хливкие шорьки Пырялись по наве. И хрюкотали зелюки, Как мюмзики в мове."
   ]
  }
 ],
 "metadata": {
  "kernelspec": {
   "display_name": "Python 3 (ipykernel)",
   "language": "python",
   "name": "python3"
  },
  "language_info": {
   "codemirror_mode": {
    "name": "ipython",
    "version": 3
   },
   "file_extension": ".py",
   "mimetype": "text/x-python",
   "name": "python",
   "nbconvert_exporter": "python",
   "pygments_lexer": "ipython3",
   "version": "3.10.2"
  }
 },
 "nbformat": 4,
 "nbformat_minor": 5
}
