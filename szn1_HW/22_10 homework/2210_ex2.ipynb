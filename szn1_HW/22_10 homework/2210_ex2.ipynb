{
 "cells": [
  {
   "cell_type": "code",
   "execution_count": null,
   "id": "c041ae2a",
   "metadata": {},
   "outputs": [],
   "source": [
    "firstNumber = int(input())\n",
    "secondNumber = int(input())\n",
    "sign = input()\n",
    "\n",
    "if sign == \"+\":\n",
    "  print(firstNumber + secondNumber)\n",
    "elif sign == \"-\":\n",
    "  print(firstNumber - secondNumber )\n",
    "elif sign == \"/\":\n",
    "  print(firstNumber / secondNumber )\n",
    "elif sign == \"*\":\n",
    "  print(firstNumber * secondNumber )"
   ]
  }
 ],
 "metadata": {
  "kernelspec": {
   "display_name": "Python 3 (ipykernel)",
   "language": "python",
   "name": "python3"
  },
  "language_info": {
   "codemirror_mode": {
    "name": "ipython",
    "version": 3
   },
   "file_extension": ".py",
   "mimetype": "text/x-python",
   "name": "python",
   "nbconvert_exporter": "python",
   "pygments_lexer": "ipython3",
   "version": "3.10.2"
  }
 },
 "nbformat": 4,
 "nbformat_minor": 5
}
