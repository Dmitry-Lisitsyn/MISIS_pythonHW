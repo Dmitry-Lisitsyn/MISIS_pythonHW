{
 "cells": [
  {
   "cell_type": "code",
   "execution_count": 5,
   "id": "f3f21574",
   "metadata": {},
   "outputs": [
    {
     "name": "stdout",
     "output_type": "stream",
     "text": [
      "Введите номер месяца:\n",
      "1\n",
      "Месяц: january\n"
     ]
    }
   ],
   "source": [
    "monthDict = {1: \"january\",\n",
    "        2: \"february\",\n",
    "        3: \"march\",\n",
    "        4: \"april\",\n",
    "        5: \"may\",\n",
    "        6:\"june\",\n",
    "        7:\"july\",\n",
    "        8:\"august\",\n",
    "        9: \"september\",\n",
    "        10:\"october\",\n",
    "        11:\"november\",\n",
    "        12: \"december\"}\n",
    "print(\"Введите номер месяца:\")\n",
    "number = int(input())\n",
    "print(\"Месяц: \" + monthDict[number])"
   ]
  },
  {
   "cell_type": "code",
   "execution_count": 18,
   "id": "7a068883",
   "metadata": {},
   "outputs": [
    {
     "name": "stdout",
     "output_type": "stream",
     "text": [
      "6\n"
     ]
    }
   ],
   "source": [
    "# a = 30\n",
    "# b = 18\n",
    "# number_to_delit = a if a>b else b\n",
    "# delit = 1\n",
    "# nod = 0\n",
    "# while delit < number_to_delit:\n",
    "#     if a%delit ==0 and b%delit == 0:\n",
    "#         nod = delit\n",
    "#     delit += 1\n",
    "# print(nod)\n",
    "\n",
    "a = 30\n",
    "b = 18\n",
    "while a != 0 and b != 0:\n",
    "    if a > b:\n",
    "        a = a % b\n",
    "    else:\n",
    "        b = b % a\n",
    " \n",
    "print(a + b)"
   ]
  },
  {
   "cell_type": "code",
   "execution_count": 20,
   "id": "63f07fcc",
   "metadata": {},
   "outputs": [
    {
     "name": "stdout",
     "output_type": "stream",
     "text": [
      "Формат поддерживается!\n"
     ]
    }
   ],
   "source": [
    "file='Моя диссертац.gif'\n",
    "extensions = ['png', 'jpg', 'jpeg', 'gif', 'svg']\n",
    "fileExt = file.split('.')[1]\n",
    "if fileExt in extensions:\n",
    "    print(\"Формат поддерживается!\")\n",
    "else:\n",
    "    print(\"Формат не поддерживается!\")\n",
    "    "
   ]
  },
  {
   "cell_type": "code",
   "execution_count": null,
   "id": "7148eb7f",
   "metadata": {},
   "outputs": [],
   "source": []
  }
 ],
 "metadata": {
  "kernelspec": {
   "display_name": "Python 3 (ipykernel)",
   "language": "python",
   "name": "python3"
  },
  "language_info": {
   "codemirror_mode": {
    "name": "ipython",
    "version": 3
   },
   "file_extension": ".py",
   "mimetype": "text/x-python",
   "name": "python",
   "nbconvert_exporter": "python",
   "pygments_lexer": "ipython3",
   "version": "3.10.2"
  }
 },
 "nbformat": 4,
 "nbformat_minor": 5
}
