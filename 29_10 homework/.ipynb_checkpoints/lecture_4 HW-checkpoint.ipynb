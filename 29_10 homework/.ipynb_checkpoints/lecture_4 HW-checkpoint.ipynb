{
 "cells": [
  {
   "cell_type": "code",
   "execution_count": 20,
   "id": "39d82453",
   "metadata": {},
   "outputs": [
    {
     "name": "stdout",
     "output_type": "stream",
     "text": [
      "Введите число: 6\n",
      "Введите степень корня: 9\n"
     ]
    },
    {
     "data": {
      "text/plain": [
       "1.2202849358728105"
      ]
     },
     "execution_count": 20,
     "metadata": {},
     "output_type": "execute_result"
    }
   ],
   "source": [
    "def roots(num, x):\n",
    "    import math\n",
    "    return math.pow(num,1/x) \n",
    "\n",
    "# print(\"Введите число: \")\n",
    "num = int(input(\"Введите число: \"))\n",
    "x = int(input(\"Введите степень корня: \"))\n",
    "roots(num, x)"
   ]
  },
  {
   "cell_type": "code",
   "execution_count": 13,
   "id": "2f2a80de",
   "metadata": {},
   "outputs": [
    {
     "data": {
      "text/plain": [
       "'Формат поддерживается!'"
      ]
     },
     "execution_count": 13,
     "metadata": {},
     "output_type": "execute_result"
    }
   ],
   "source": [
    "def supportedFormat(file, ext):\n",
    "    if file.split('.').pop() in ext:\n",
    "        return \"Формат поддерживается!\"\n",
    "    else:\n",
    "        return \"Формат не поддерживается!\"\n",
    "\n",
    "file='Моя диссертац.gif'\n",
    "extensions = ['png', 'jpg', 'jpeg', 'gif', 'svg']\n",
    "supportedFormat(file, extensions)\n",
    "    "
   ]
  },
  {
   "cell_type": "code",
   "execution_count": 14,
   "id": "19d40032",
   "metadata": {},
   "outputs": [
    {
     "name": "stdout",
     "output_type": "stream",
     "text": [
      "{1: 10, 2: 20, 3: 30, 4: 40, 5: 50, 6: 60}\n"
     ]
    }
   ],
   "source": [
    "dict_a = {1:10, 2:20}\n",
    "dict_b = {3:30, 4:40}\n",
    "dict_c = {5:50, 6:60}\n",
    "y = dict(list(dict_a.items()) + list(dict_b.items()) + list(dict_c.items()))\n",
    "print(y)\n"
   ]
  },
  {
   "cell_type": "code",
   "execution_count": 27,
   "id": "dabc20e8",
   "metadata": {},
   "outputs": [
    {
     "name": "stdout",
     "output_type": "stream",
     "text": [
      "Введите число: 7\n",
      "Количество цифр в числе: 1\n"
     ]
    }
   ],
   "source": [
    "def nums_in_numbers(n):\n",
    "    n = abs(n)\n",
    "    count = 1\n",
    "    n //= 10\n",
    "    while n > 0:\n",
    "        n //= 10\n",
    "        count += 1\n",
    "    return(count)\n",
    "x = int(input(\"Введите число: \"))\n",
    "print(\"Количество цифр в числе: \" + str(nums_in_numbers(x)))"
   ]
  },
  {
   "cell_type": "code",
   "execution_count": 29,
   "id": "89b4ce77",
   "metadata": {},
   "outputs": [
    {
     "name": "stdout",
     "output_type": "stream",
     "text": [
      "Есть одинаковые числа\n"
     ]
    }
   ],
   "source": [
    "numbers=[1,4,5]\n",
    "unique_numbers = set(numbers)\n",
    "if len(numbers) == len(unique_numbers):\n",
    "    print(\"Все элементы уникальны\")\n",
    "else:\n",
    "    print(\"Есть одинаковые числа\")"
   ]
  },
  {
   "cell_type": "code",
   "execution_count": 37,
   "id": "c5c748e8",
   "metadata": {},
   "outputs": [
    {
     "name": "stdout",
     "output_type": "stream",
     "text": [
      "я 0\n",
      "не 1\n",
      "в 2\n",
      "отпуск 3\n"
     ]
    }
   ],
   "source": [
    "def print_list(my_list):\n",
    "    i = 0\n",
    "    while i < len(my_list):\n",
    "        print(i, my_list[i])\n",
    "        i+=1\n",
    "\n",
    "print_list([\"я\", \"не\", \"в\", \"отпуск\" ])"
   ]
  },
  {
   "cell_type": "code",
   "execution_count": 33,
   "id": "47103718",
   "metadata": {},
   "outputs": [
    {
     "name": "stdout",
     "output_type": "stream",
     "text": [
      "key1 : 2\n",
      "key3 : False\n",
      "Приветствие : Hello\n"
     ]
    }
   ],
   "source": [
    "def print_dict(my_dict):\n",
    "    for key,value in my_dict.items():\n",
    "        print(key, ':', value)\n",
    "\n",
    "print_dict({\"key1\": 2, \"key3\": False, \"Приветствие\": \"Hello\"})\n",
    "\n",
    "        "
   ]
  },
  {
   "cell_type": "code",
   "execution_count": 38,
   "id": "a05526f9",
   "metadata": {},
   "outputs": [
    {
     "name": "stdout",
     "output_type": "stream",
     "text": [
      "1\n",
      "1 0\n",
      "2 1\n",
      "3 2\n",
      "4 3\n",
      "Hello\n",
      "ciao : Mondo\n",
      "Привет : О дивный мир\n"
     ]
    }
   ],
   "source": [
    "def print_overlord(mydict):\n",
    "    for key,value in mydict.items():\n",
    "        if isinstance(value, list):\n",
    "            print_list(value)\n",
    "        elif isinstance(value, dict):\n",
    "            print_dict(value)\n",
    "        else:\n",
    "            print(value)\n",
    "\n",
    "print_overlord(dict(key1=1,\n",
    "            key2=[1, 2, 3, 4], \n",
    "            key3='Hello', \n",
    "            key4={\"ciao\":\"Mondo\", \"Привет\": \"О дивный мир\"}))"
   ]
  },
  {
   "cell_type": "code",
   "execution_count": 5,
   "id": "235494bb",
   "metadata": {},
   "outputs": [
    {
     "name": "stdout",
     "output_type": "stream",
     "text": [
      "Введите строку: хай афаф фвфцв вф ффв ва в вы в Фцв ф\n",
      "хай\n",
      "афаф\n",
      "фвфцв\n",
      "вф\n",
      "ффв\n",
      "ва\n",
      "в\n",
      "вы\n",
      "в\n",
      "Фцв\n",
      "ф\n",
      "11\n"
     ]
    }
   ],
   "source": [
    "def word_count(phrase):\n",
    "    words = phrase.split()\n",
    "    num_of_words = len(words)\n",
    "    for i in range(num_of_words):\n",
    "        print(words[i])\n",
    "        if i == num_of_words-1:\n",
    "            print(num_of_words)\n",
    "        \n",
    "words = input(\"Введите строку: \");\n",
    "word_count(words)\n"
   ]
  },
  {
   "cell_type": "code",
   "execution_count": null,
   "id": "f291714c",
   "metadata": {},
   "outputs": [],
   "source": []
  }
 ],
 "metadata": {
  "kernelspec": {
   "display_name": "Python 3 (ipykernel)",
   "language": "python",
   "name": "python3"
  },
  "language_info": {
   "codemirror_mode": {
    "name": "ipython",
    "version": 3
   },
   "file_extension": ".py",
   "mimetype": "text/x-python",
   "name": "python",
   "nbconvert_exporter": "python",
   "pygments_lexer": "ipython3",
   "version": "3.10.2"
  }
 },
 "nbformat": 4,
 "nbformat_minor": 5
}
