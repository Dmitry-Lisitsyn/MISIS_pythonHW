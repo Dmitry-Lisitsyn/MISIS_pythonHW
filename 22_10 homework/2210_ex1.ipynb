{
 "cells": [
  {
   "cell_type": "code",
   "execution_count": null,
   "id": "00093334",
   "metadata": {},
   "outputs": [],
   "source": [
    "seconds = 10000\n",
    "secInDay = 60 * 60 * 24\n",
    "secInHour = 60 * 60\n",
    "secInMin = 60\n",
    "\n",
    "days_value = seconds // secInDay\n",
    "seconds_value = seconds % secInDay\n",
    "hours_value = seconds_value // secInHour\n",
    "seconds_value %= secInHour\n",
    "mins_value = seconds_value // secInMin\n",
    "seconds_value %= secInMin\n",
    "\n",
    "printString = f\"{days_value}:{hours_value}:{mins_value}:{seconds_value}\"\n",
    "print(printString)\n"
   ]
  }
 ],
 "metadata": {
  "kernelspec": {
   "display_name": "Python 3 (ipykernel)",
   "language": "python",
   "name": "python3"
  },
  "language_info": {
   "codemirror_mode": {
    "name": "ipython",
    "version": 3
   },
   "file_extension": ".py",
   "mimetype": "text/x-python",
   "name": "python",
   "nbconvert_exporter": "python",
   "pygments_lexer": "ipython3",
   "version": "3.10.2"
  }
 },
 "nbformat": 4,
 "nbformat_minor": 5
}
